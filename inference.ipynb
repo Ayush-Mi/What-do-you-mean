{
 "cells": [
  {
   "cell_type": "code",
   "execution_count": 1,
   "metadata": {},
   "outputs": [],
   "source": [
    "import tensorflow as tf\n",
    "import tensorflow_text as text\n",
    "import tensorflow_hub as hub\n",
    "import numpy as np\n",
    "import pandas as pd\n",
    "import matplotlib.pyplot as plt\n",
    "from tensorflow.keras import backend as K\n",
    "from time import time\n",
    "\n"
   ]
  },
  {
   "cell_type": "code",
   "execution_count": 2,
   "metadata": {},
   "outputs": [],
   "source": [
    "def recall(y_true, y_pred):\n",
    "        TP = K.sum(K.round(K.clip(y_true * y_pred, 0, 1)))\n",
    "        Positives = K.sum(K.round(K.clip(y_true, 0, 1)))\n",
    "        \n",
    "        recall = TP / (Positives+K.epsilon())    \n",
    "        return recall \n",
    "\n",
    "def precision(y_true, y_pred):\n",
    "        TP = K.sum(K.round(K.clip(y_true * y_pred, 0, 1)))\n",
    "        Pred_Positives = K.sum(K.round(K.clip(y_pred, 0, 1)))\n",
    "    \n",
    "        precision = TP / (Pred_Positives+K.epsilon())\n",
    "        return precision \n",
    "\n",
    "def f1_score(y_true, y_pred):    \n",
    "    \n",
    "    p_recision = precision(y_true, y_pred), \n",
    "    r_call= recall(y_true, y_pred)\n",
    "    \n",
    "    return 2*((p_recision*r_call)/(p_recision+r_call+K.epsilon()))"
   ]
  },
  {
   "cell_type": "code",
   "execution_count": 3,
   "metadata": {},
   "outputs": [
    {
     "name": "stdout",
     "output_type": "stream",
     "text": [
      "There are total 700 texts in test dataset.\n"
     ]
    },
    {
     "data": {
      "text/html": [
       "<div>\n",
       "<style scoped>\n",
       "    .dataframe tbody tr th:only-of-type {\n",
       "        vertical-align: middle;\n",
       "    }\n",
       "\n",
       "    .dataframe tbody tr th {\n",
       "        vertical-align: top;\n",
       "    }\n",
       "\n",
       "    .dataframe thead th {\n",
       "        text-align: right;\n",
       "    }\n",
       "</style>\n",
       "<table border=\"1\" class=\"dataframe\">\n",
       "  <thead>\n",
       "    <tr style=\"text-align: right;\">\n",
       "      <th></th>\n",
       "      <th>label</th>\n",
       "      <th>label_count</th>\n",
       "    </tr>\n",
       "  </thead>\n",
       "  <tbody>\n",
       "    <tr>\n",
       "      <th>0</th>\n",
       "      <td>AddToPlaylist</td>\n",
       "      <td>124</td>\n",
       "    </tr>\n",
       "    <tr>\n",
       "      <th>1</th>\n",
       "      <td>BookRestaurant</td>\n",
       "      <td>92</td>\n",
       "    </tr>\n",
       "    <tr>\n",
       "      <th>2</th>\n",
       "      <td>GetWeather</td>\n",
       "      <td>104</td>\n",
       "    </tr>\n",
       "    <tr>\n",
       "      <th>3</th>\n",
       "      <td>PlayMusic</td>\n",
       "      <td>86</td>\n",
       "    </tr>\n",
       "    <tr>\n",
       "      <th>4</th>\n",
       "      <td>RateBook</td>\n",
       "      <td>80</td>\n",
       "    </tr>\n",
       "    <tr>\n",
       "      <th>5</th>\n",
       "      <td>SearchCreativeWork</td>\n",
       "      <td>107</td>\n",
       "    </tr>\n",
       "    <tr>\n",
       "      <th>6</th>\n",
       "      <td>SearchScreeningEvent</td>\n",
       "      <td>107</td>\n",
       "    </tr>\n",
       "  </tbody>\n",
       "</table>\n",
       "</div>"
      ],
      "text/plain": [
       "                  label  label_count\n",
       "0         AddToPlaylist          124\n",
       "1        BookRestaurant           92\n",
       "2            GetWeather          104\n",
       "3             PlayMusic           86\n",
       "4              RateBook           80\n",
       "5    SearchCreativeWork          107\n",
       "6  SearchScreeningEvent          107"
      ]
     },
     "execution_count": 3,
     "metadata": {},
     "output_type": "execute_result"
    }
   ],
   "source": [
    "with open('Datasets/SNIPS/test/seq.in') as file:\n",
    "    test_x = np.asarray([x.strip() for x in file])\n",
    "\n",
    "with open('Datasets/SNIPS/test/label') as file:\n",
    "    test_y = [x.strip() for x in file]\n",
    "\n",
    "print(\"There are total {} texts in test dataset.\".format(len(test_x)))\n",
    "\n",
    "labels, label_count = np.unique(np.array(test_y),return_counts=True)\n",
    "pd.DataFrame(list(zip(labels,label_count)),columns=['label','label_count'])"
   ]
  },
  {
   "cell_type": "code",
   "execution_count": 4,
   "metadata": {},
   "outputs": [],
   "source": [
    "classes = np.unique(test_y).tolist()\n",
    "test_y_numerical = [classes.index(x) for x in test_y]# tf.keras.utils.to_categorical([classes.index(x) for x in train_y])\n",
    "test_y_categorical = tf.keras.utils.to_categorical(test_y_numerical)"
   ]
  },
  {
   "cell_type": "markdown",
   "metadata": {},
   "source": [
    "Inference with keras model"
   ]
  },
  {
   "cell_type": "code",
   "execution_count": 5,
   "metadata": {},
   "outputs": [
    {
     "name": "stderr",
     "output_type": "stream",
     "text": [
      "2022-10-12 20:24:46.799301: W tensorflow/core/platform/profile_utils/cpu_utils.cc:128] Failed to get CPU frequency: 0 Hz\n"
     ]
    }
   ],
   "source": [
    "model = tf.keras.models.load_model('bert_model/',custom_objects={'f1_score':f1_score,'recall':recall,'precision':precision})"
   ]
  },
  {
   "cell_type": "code",
   "execution_count": 6,
   "metadata": {},
   "outputs": [
    {
     "name": "stdout",
     "output_type": "stream",
     "text": [
      "700/700 [==============================] - 83s 118ms/step - loss: 0.2525 - categorical_accuracy: 0.9086 - precision: 0.8900 - recall: 0.8900 - f1_score: 0.8900\n",
      "Average prediction time : 0.11911759751183645 secs\n",
      "Accuracy:  0.9085714221000671\n",
      "F-1 score:  0.8899999260902405\n",
      "Precision:  0.8899999260902405\n",
      "Recall:  0.8899999260902405\n"
     ]
    }
   ],
   "source": [
    "tik = time() \n",
    "results = model.evaluate(test_x,test_y_categorical,batch_size=1)\n",
    "tok = time() - tik\n",
    "\n",
    "print(\"Average prediction time : {} secs\".format(tok/len(test_x)))\n",
    "print(\"Accuracy: \",results[1])\n",
    "print(\"F-1 score: \",results[2])\n",
    "print(\"Precision: \",results[3])\n",
    "print(\"Recall: \",results[4])"
   ]
  }
 ],
 "metadata": {
  "kernelspec": {
   "display_name": "Python 3.9.12 ('work': venv)",
   "language": "python",
   "name": "python3"
  },
  "language_info": {
   "codemirror_mode": {
    "name": "ipython",
    "version": 3
   },
   "file_extension": ".py",
   "mimetype": "text/x-python",
   "name": "python",
   "nbconvert_exporter": "python",
   "pygments_lexer": "ipython3",
   "version": "3.9.12"
  },
  "orig_nbformat": 4,
  "vscode": {
   "interpreter": {
    "hash": "cbb4c99ba6a158315ca45ade86b338397709de922c2faeb37289f32131d55cc1"
   }
  }
 },
 "nbformat": 4,
 "nbformat_minor": 2
}
